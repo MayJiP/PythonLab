{
  "nbformat": 4,
  "nbformat_minor": 0,
  "metadata": {
    "colab": {
      "name": "Quiz1.ipynb",
      "provenance": [],
      "authorship_tag": "ABX9TyMZbLinpOw1GQDef3jJetF3",
      "include_colab_link": true
    },
    "kernelspec": {
      "name": "python3",
      "display_name": "Python 3"
    }
  },
  "cells": [
    {
      "cell_type": "markdown",
      "metadata": {
        "id": "view-in-github",
        "colab_type": "text"
      },
      "source": [
        "<a href=\"https://colab.research.google.com/github/MayJiP/PythonLab/blob/master/Quiz1.ipynb\" target=\"_parent\"><img src=\"https://colab.research.google.com/assets/colab-badge.svg\" alt=\"Open In Colab\"/></a>"
      ]
    },
    {
      "cell_type": "code",
      "metadata": {
        "id": "gnjrP27vUMfM",
        "colab_type": "code",
        "colab": {
          "base_uri": "https://localhost:8080/",
          "height": 52
        },
        "outputId": "9e47eac7-9810-447d-d1a7-2cbe42a54482"
      },
      "source": [
        "#เขียนโปรแกรมรับ input จากผู้ใช้ 1 ตัว แปลงให้เป็น int และตรวจสอบว่าเป็นเลขคู่หรือเลขคี่ \n",
        "#\t- หากเป็นเลขคู่ ให้พิมพ์ว่า เลขคู่\n",
        "#\t- หากเป็นเลขคี่ ให้พิมพ์ว่า เลขคี่\n",
        "#\t- หากเป็นเลขศูนย์ให้พิมพ์ว่า เลขศูนย์\n",
        "\n",
        "num = int(input(\"Input a number: \"))\n",
        "if num == 0:\n",
        "   print(\"Number is 0\")\n",
        "elif (num % 2) == 0:\n",
        "   print(\"{0} is Even\".format(num))\n",
        "else:\n",
        "   print(\"{0} is Odd\".format(num))\n"
      ],
      "execution_count": 7,
      "outputs": [
        {
          "output_type": "stream",
          "text": [
            "Input a number: 19\n",
            "19 is Odd\n"
          ],
          "name": "stdout"
        }
      ]
    },
    {
      "cell_type": "code",
      "metadata": {
        "id": "dFLgqXhPZQqb",
        "colab_type": "code",
        "colab": {
          "base_uri": "https://localhost:8080/",
          "height": 104
        },
        "outputId": "c4505845-3277-4a25-a84a-96e6e8bcfca6"
      },
      "source": [
        "#เขียนโปรแกรมรับค่า input 2 ตัว ในรูปแบบ float โดยให้ตัวแรกเป็นตัวตั้ง ตัวที่สองเป็นตัวหาร\n",
        "#\t- หาผลลัพธ์ของการหาร\n",
        "#\t- ใส่เลขทศนิยมได้\n",
        "#\t- ถ้าตัวหารเป็น 0 ให้รับค่าใหม่จนกว่าจะเป็นเลขที่หารได้ \n",
        "num2 = 1\n",
        "while num2 != 0:\n",
        " num1 = float(input(\"Input a number 1: \"))\n",
        " num2 = float(input(\"Input a number 2: \"))\n",
        " if num2==0:\n",
        "  num2 = 1\n",
        " else:\n",
        "  result = num1/num2\n",
        "  print (result)\n",
        "  num2 = 0\n",
        "\n"
      ],
      "execution_count": 20,
      "outputs": [
        {
          "output_type": "stream",
          "text": [
            "Input a number 1: 3\n",
            "Input a number 2: 0\n",
            "Input a number 1: 4\n",
            "Input a number 2: 4\n",
            "1.0\n"
          ],
          "name": "stdout"
        }
      ]
    }
  ]
}