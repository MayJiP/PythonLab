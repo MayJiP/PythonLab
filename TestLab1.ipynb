{
  "nbformat": 4,
  "nbformat_minor": 0,
  "metadata": {
    "colab": {
      "name": "TestLab1.ipynb",
      "provenance": [],
      "authorship_tag": "ABX9TyNDthMOpPwNJrdoTdTK01Hd",
      "include_colab_link": true
    },
    "kernelspec": {
      "name": "python3",
      "display_name": "Python 3"
    }
  },
  "cells": [
    {
      "cell_type": "markdown",
      "metadata": {
        "id": "view-in-github",
        "colab_type": "text"
      },
      "source": [
        "<a href=\"https://colab.research.google.com/github/MayJiP/PythonLab/blob/master/TestLab1.ipynb\" target=\"_parent\"><img src=\"https://colab.research.google.com/assets/colab-badge.svg\" alt=\"Open In Colab\"/></a>"
      ]
    },
    {
      "cell_type": "code",
      "metadata": {
        "id": "itcChqM69Nrn",
        "colab_type": "code",
        "outputId": "77f26d68-089b-4129-9b9b-84241bc04086",
        "colab": {
          "base_uri": "https://localhost:8080/",
          "height": 52
        }
      },
      "source": [
        "Friends_Height = [180,158,172,170,172]\n",
        "Friends_Weight = (72,50,55,65,90)\n",
        "\n",
        "ListPlus = Friends_Height + Friends_Height\n",
        "print(ListPlus)\n",
        "\n",
        "TuplePlus = Friends_Weight + Friends_Weight\n",
        "print(TuplePlus)\n",
        "\n",
        "multiplyList = Friends_Height * Friends_Height\n",
        "print = multiplyList\n",
        "\n",
        "multiplyTuple = Friends_Height * Friends_Height\n",
        "print = multiplyTuple\n",
        "\n",
        "#print ส่วนสูง ของ เพื่อน คนที่ 2 \n",
        "Friends_Height[1]\n",
        "#print น้ำหนัก ของ เพื่อน คนที่ 3 ถึง 5\n",
        "Friends_Weight[2:5]\n",
        "#แก้ไข List เดิม โดย เพิ่ม (สมาชิก) ส่วนสูง ของเพื่อน คนที่ 6 เข้าไป โดยใช้ function เช่น .append \n",
        "Friends_Height.append(176)\n",
        "\n"
      ],
      "execution_count": 0,
      "outputs": [
        {
          "output_type": "stream",
          "text": [
            "[180, 158, 172, 170, 172, 180, 158, 172, 170, 172]\n",
            "(72, 50, 55, 65, 90, 72, 50, 55, 65, 90)\n"
          ],
          "name": "stdout"
        }
      ]
    },
    {
      "cell_type": "code",
      "metadata": {
        "id": "NO6S-jvp938a",
        "colab_type": "code",
        "outputId": "047c0a84-aadd-468c-e14b-18957e3a7126",
        "colab": {
          "base_uri": "https://localhost:8080/",
          "height": 69
        }
      },
      "source": [
        "print(Friends_Height[0:7])\n",
        "#print ส่วนสูง ของ เพื่อน คนที่ 2 \n",
        "print(Friends_Height[1])\n",
        "#print น้ำหนัก ของ เพื่อน คนที่ 3 ถึง 5\n",
        "print(Friends_Weight[2:5])"
      ],
      "execution_count": 0,
      "outputs": [
        {
          "output_type": "stream",
          "text": [
            "[180, 158, 172, 170, 172, 176]\n",
            "158\n",
            "(55, 65, 90)\n"
          ],
          "name": "stdout"
        }
      ]
    },
    {
      "cell_type": "code",
      "metadata": {
        "id": "JWRObtus_YUK",
        "colab_type": "code",
        "colab": {}
      },
      "source": [
        "#ลบ ส่วนสูง ของเพื่อน คนที่ 3 ออกจาก List \n",
        "Friends_Height.remove(Friends_Height[2]) "
      ],
      "execution_count": 0,
      "outputs": []
    },
    {
      "cell_type": "code",
      "metadata": {
        "id": "Nwk2b3Pk_hxe",
        "colab_type": "code",
        "outputId": "c15ceded-cc2b-42bc-8303-dda1a277e1ab",
        "colab": {
          "base_uri": "https://localhost:8080/",
          "height": 35
        }
      },
      "source": [
        "Friends_Height[0:7]"
      ],
      "execution_count": 0,
      "outputs": [
        {
          "output_type": "execute_result",
          "data": {
            "text/plain": [
              "[180, 158, 170, 172, 176]"
            ]
          },
          "metadata": {
            "tags": []
          },
          "execution_count": 16
        }
      ]
    },
    {
      "cell_type": "code",
      "metadata": {
        "id": "ZOlmHRbOAuNN",
        "colab_type": "code",
        "colab": {}
      },
      "source": [
        "#Dictionary\n",
        "may = {\"weight\" : 45, \"name\": \"Pun\"}"
      ],
      "execution_count": 0,
      "outputs": []
    },
    {
      "cell_type": "code",
      "metadata": {
        "id": "i-Owc2d4CLq9",
        "colab_type": "code",
        "colab": {}
      },
      "source": [
        "#Dictionary\n",
        "Friend_Dic = {(\"May\":45,160),\n",
        "\"Nin\":(65,170),\n",
        "\"Min\":(60,155)\n",
        "}"
      ],
      "execution_count": 0,
      "outputs": []
    },
    {
      "cell_type": "code",
      "metadata": {
        "id": "e6SIfRgeGoQN",
        "colab_type": "code",
        "outputId": "29f3428a-6d10-4ee7-bc89-e8c4f021b149",
        "colab": {
          "base_uri": "https://localhost:8080/",
          "height": 69
        }
      },
      "source": [
        "def area(width, height): #Reg\n",
        "  return width * height\n",
        "\n",
        "def area(width): #Square\n",
        "  return width * width\n",
        "\n",
        "def calculate(first, last, salary):\n",
        "  return False\n",
        "\n",
        "Reg1_width = 10\n",
        "Reg1_height = 20\n",
        "\n",
        "Reg2_width = 50\n",
        "Reg2_height = 30\n",
        "\n",
        "Reg3_width = 50\n",
        "Reg3_height = 30\n",
        "\n",
        "area1 = Reg1_width * Reg1_height\n",
        "area2 = Reg2_width * Reg2_height\n",
        "area3 = Reg3_width * Reg3_height\n",
        "print(area1)\n",
        "print(area2)\n",
        "print(area2)"
      ],
      "execution_count": 0,
      "outputs": [
        {
          "output_type": "stream",
          "text": [
            "200\n",
            "1500\n",
            "1500\n"
          ],
          "name": "stdout"
        }
      ]
    },
    {
      "cell_type": "code",
      "metadata": {
        "id": "wYshBjd7Jy7X",
        "colab_type": "code",
        "colab": {}
      },
      "source": [
        "def clean_room(area): # ขนาด = 10 \n",
        "  return area * 3  + 5  / 3 # 20 นาที\n",
        "\n",
        "print(clean_room(10))\n",
        "print(clean_room(20))\n",
        "\n",
        "clean2 = lambda area : (area* 3  + 5  / 3)\n",
        "print(clean2(10))\n",
        "print(clean2(20))\n",
        "\n",
        "def mean(a,b):\n",
        "  return(a+b)/2\n",
        "\n",
        "a + b/2\n",
        "\n"
      ],
      "execution_count": 0,
      "outputs": []
    },
    {
      "cell_type": "code",
      "metadata": {
        "id": "VioHkOz9LxBN",
        "colab_type": "code",
        "outputId": "6aa028b8-f659-4969-c3f3-a34d527f1ace",
        "colab": {
          "base_uri": "https://localhost:8080/",
          "height": 52
        }
      },
      "source": [
        "#เขียนฟังก์ชั่นธรรมดารับค่า 4 พารามิเตอร์ และหาค่าเฉลี่ย\n",
        "def mean4(num1,num2,num3,num4):\n",
        "  return (num1+num2+num3+num4) /4\n",
        "print(mean4(4,5,6,7))\n",
        "\n",
        "#เขียนฟังก์ชั่นไม่มีชื่อให้รับพารามิเตอร์ 1 ตัว และ ปริ้นค่านั้นหารด้วย 3 \n",
        "TestCalFN = lambda num : (num/3)\n",
        "print(TestCalFN(9)) \n",
        "\n"
      ],
      "execution_count": 0,
      "outputs": [
        {
          "output_type": "stream",
          "text": [
            "5.5\n",
            "3.0\n"
          ],
          "name": "stdout"
        }
      ]
    },
    {
      "cell_type": "code",
      "metadata": {
        "id": "_aw3sEO7NbHE",
        "colab_type": "code",
        "outputId": "16026254-b3c2-48ba-c94b-4f496b17c10d",
        "colab": {
          "base_uri": "https://localhost:8080/",
          "height": 35
        }
      },
      "source": [
        "a = 10\n",
        "b = 20\n",
        "c = a + b\n",
        "print(\"Result = \" , c)"
      ],
      "execution_count": 0,
      "outputs": [
        {
          "output_type": "stream",
          "text": [
            "Result =  30\n"
          ],
          "name": "stdout"
        }
      ]
    },
    {
      "cell_type": "code",
      "metadata": {
        "id": "UeSs6CxaOw-S",
        "colab_type": "code",
        "outputId": "027a554e-f619-41d3-ab91-c95b543cda30",
        "colab": {
          "base_uri": "https://localhost:8080/",
          "height": 139
        }
      },
      "source": [
        "#Lab Operation\n",
        "aa = 1+2\n",
        "bb = 5-2\n",
        "cc = 3*3\n",
        "d = 4/2 \n",
        "e = 4**5\n",
        "f = 120// 60\n",
        "g = 5%2\n",
        "print(aa)\n",
        "print(bb)\n",
        "print(cc)\n",
        "print(d)\n",
        "print(e)\n",
        "print(f)\n",
        "print(g)"
      ],
      "execution_count": 0,
      "outputs": [
        {
          "output_type": "stream",
          "text": [
            "3\n",
            "3\n",
            "9\n",
            "2.0\n",
            "1024\n",
            "2\n",
            "1\n"
          ],
          "name": "stdout"
        }
      ]
    },
    {
      "cell_type": "code",
      "metadata": {
        "id": "Pt0JwHopUFS6",
        "colab_type": "code",
        "outputId": "13ff9059-74e1-40b3-83e5-48344c1724fd",
        "colab": {
          "base_uri": "https://localhost:8080/",
          "height": 131
        }
      },
      "source": [
        "\n",
        "FirstName = 5\n",
        "print(Firstname)\n",
        "\n",
        "########################\n"
      ],
      "execution_count": 0,
      "outputs": [
        {
          "output_type": "error",
          "ename": "SyntaxError",
          "evalue": "ignored",
          "traceback": [
            "\u001b[0;36m  File \u001b[0;32m\"<ipython-input-26-0cd76e244db9>\"\u001b[0;36m, line \u001b[0;32m7\u001b[0m\n\u001b[0;31m    13Friday = 5\u001b[0m\n\u001b[0m           ^\u001b[0m\n\u001b[0;31mSyntaxError\u001b[0m\u001b[0;31m:\u001b[0m invalid syntax\n"
          ]
        }
      ]
    },
    {
      "cell_type": "code",
      "metadata": {
        "id": "2xJ-QWUsUQnQ",
        "colab_type": "code",
        "outputId": "beb7b190-ac51-4e34-c9b3-4c6444f9670d",
        "colab": {
          "base_uri": "https://localhost:8080/",
          "height": 131
        }
      },
      "source": [
        "13Friday = 5\n",
        "print(13Friday)"
      ],
      "execution_count": 0,
      "outputs": [
        {
          "output_type": "error",
          "ename": "SyntaxError",
          "evalue": "ignored",
          "traceback": [
            "\u001b[0;36m  File \u001b[0;32m\"<ipython-input-27-800cc1c327c3>\"\u001b[0;36m, line \u001b[0;32m1\u001b[0m\n\u001b[0;31m    13Friday = 5\u001b[0m\n\u001b[0m           ^\u001b[0m\n\u001b[0;31mSyntaxError\u001b[0m\u001b[0;31m:\u001b[0m invalid syntax\n"
          ]
        }
      ]
    },
    {
      "cell_type": "code",
      "metadata": {
        "id": "WZ_JS8RMUV6r",
        "colab_type": "code",
        "outputId": "503568d3-87d5-483e-8c0a-af58b0cc4968",
        "colab": {
          "base_uri": "https://localhost:8080/",
          "height": 35
        }
      },
      "source": [
        "a1=2345%13\n",
        "b2=1567//17\n",
        "########################\n",
        "print(\"OUTPUT1 {} OUTPUT2 {}\".format(a1,b2))\n"
      ],
      "execution_count": 0,
      "outputs": [
        {
          "output_type": "stream",
          "text": [
            "OUTPUT1 5 OUTPUT2 92\n"
          ],
          "name": "stdout"
        }
      ]
    },
    {
      "cell_type": "code",
      "metadata": {
        "id": "ndDLhc_3haPd",
        "colab_type": "code",
        "outputId": "914a45d2-06a9-4a63-8d8d-df21c99e7222",
        "colab": {
          "base_uri": "https://localhost:8080/",
          "height": 35
        }
      },
      "source": [
        "#จงเขียนโปรแกรมตรวจสอบคะแนนเด็กนักเรียน ถ้าเด็กได้คะแนนมากกว่า 80 เกรด A มากกว่า 70 เกรด B มากกว่า 60 เกรด C มากกว่า 50 เกรด D และต่ำกว่า 50 เกรด F\n",
        "\n",
        "i = 99\n",
        "if(i > 80):\n",
        "  print(\" GradeA\")\n",
        "elif(i>70):\n",
        "  print(\"Grade B\")\n",
        "elif(i>60):\n",
        "  print(\"Grade C\")\n",
        "elif(i>50):\n",
        "  print(\"Grade D\")\n",
        "else:\n",
        "  print(\"Grade F\")\n"
      ],
      "execution_count": 0,
      "outputs": [
        {
          "output_type": "stream",
          "text": [
            "A\n"
          ],
          "name": "stdout"
        }
      ]
    },
    {
      "cell_type": "code",
      "metadata": {
        "id": "9OhD6Z6rj6fE",
        "colab_type": "code",
        "outputId": "7f0874c8-40a9-417b-cbc3-ef5aaf0ff845",
        "colab": {
          "base_uri": "https://localhost:8080/",
          "height": 35
        }
      },
      "source": [
        "#จงเขียนโปรแกรมตรวจสอบคะแนนเด็กนักเรียน ถ้าเด็กได้คะแนนมากกว่า 80 เกรด A มากกว่า 70 เกรด B มากกว่า 60 เกรด C มากกว่า 50 เกรด D และต่ำกว่า 50 เกรด F\n",
        "\n",
        "score = 76\n",
        "if score > 80:\n",
        "  print(\"Grade A\")\n",
        "elif score >70:\n",
        "  print(\"Grade B\")\n",
        "elif score >60:\n",
        "  print(\"Grade C\")\n",
        "elif score >50:\n",
        "  print(\"Grade D\")\n",
        "else:\n",
        "  print(\"Grade F\")\n"
      ],
      "execution_count": 0,
      "outputs": [
        {
          "output_type": "stream",
          "text": [
            "Grade B\n"
          ],
          "name": "stdout"
        }
      ]
    },
    {
      "cell_type": "code",
      "metadata": {
        "id": "-Gcyo91qkx47",
        "colab_type": "code",
        "colab": {}
      },
      "source": [
        "\n",
        "#list = [‘a’, ‘b’, ‘c’, ‘d’, ‘e’] จงเขียน program ให้ loop โดย print ทุกคนออกมาโดยใช้ for\n",
        "for list2 in ['a', 'b', 'c', 'd', 'e']:\n",
        " print(list2)\n",
        "#ใช้ range ในการ ตัวเลข 0 ถึง 20\n",
        "for no1 in range(21):\n",
        " print (\"Number: \",no1)\n",
        "#ใช้ range ในการ ตัวเลข 10 ถึง 20\n",
        "for no2 in range(10,21):\n",
        " print (\"Number: \",no2)\n"
      ],
      "execution_count": 0,
      "outputs": []
    },
    {
      "cell_type": "code",
      "metadata": {
        "id": "hgijwLQJtweb",
        "colab_type": "code",
        "colab": {}
      },
      "source": [
        "\n",
        "#เขียน code โดยการใช้ continue และ break โดยสื่อให้เห็นว่าเราเข้าใจใน continue และ break \n",
        "for numCont in range(12):\n",
        " if numCont == 10:\n",
        "  continue\n",
        " print('Cont Test',numCont)\n",
        "print(\"End Statement Continue:---------\")\n",
        "for numBreak in range(12):\n",
        " if numBreak == 10:\n",
        "  break\n",
        " print('Break Test',numBreak)\n"
      ],
      "execution_count": 0,
      "outputs": []
    },
    {
      "cell_type": "code",
      "metadata": {
        "id": "Js8XGIWwz3_p",
        "colab_type": "code",
        "colab": {
          "base_uri": "https://localhost:8080/",
          "height": 121
        },
        "outputId": "c6c2870a-ba60-4426-cedb-39acba771999"
      },
      "source": [
        "#สร้าง nested list ขึ้นมา เป็นแบบ 2 ชั้น เช่น [ [“Krissada”, “CHAlermsoko”, “14”],  [“Benja”, “Cha”, “17”]] แล้วใช้ for ซ้อน for เพื่อทำการ print ออกมาทั้งหมด \n",
        "nameList = [ [\"Krissada\", \"CHAlermsoko\", \"14\"],  [\"Benja\", \"Cha\", \"17\"]]\n",
        "for i in nameList:\n",
        "  for x in i:\n",
        "   print(x)\n",
        "   #print(i)"
      ],
      "execution_count": 1,
      "outputs": [
        {
          "output_type": "stream",
          "text": [
            "Krissada\n",
            "CHAlermsoko\n",
            "14\n",
            "Benja\n",
            "Cha\n",
            "17\n"
          ],
          "name": "stdout"
        }
      ]
    },
    {
      "cell_type": "code",
      "metadata": {
        "id": "ncZDVImOtasg",
        "colab_type": "code",
        "colab": {}
      },
      "source": [
        "#ใช้ range ในการ ตัวเลข 10 ถึง 50 โดยจะมีการกระโดดข้ามทีละ 1 ตัว เช่น 10,12,14,...,50\n",
        "for no3 in range(10,51,2):\n",
        " print (\"Number: \",no3)"
      ],
      "execution_count": 0,
      "outputs": []
    },
    {
      "cell_type": "code",
      "metadata": {
        "id": "nPLEduomwb-1",
        "colab_type": "code",
        "outputId": "8934090e-6b80-489f-c43a-2eb39c98fdfe",
        "colab": {
          "base_uri": "https://localhost:8080/",
          "height": 104
        }
      },
      "source": [
        "#list = [‘a’, ‘b’, ‘c’, ‘d’, ‘e’] จงเขียน program ให้ loop โดย print ทุกคนออกมาโดยใช้ while\n",
        "list3 = ['a', 'b', 'c', 'd', 'e']\n",
        "count = 0\n",
        "while (count <=4):\n",
        "  print(list3[count])\n",
        "  count +=1"
      ],
      "execution_count": 6,
      "outputs": [
        {
          "output_type": "stream",
          "text": [
            "a\n",
            "b\n",
            "c\n",
            "d\n",
            "e\n"
          ],
          "name": "stdout"
        }
      ]
    }
  ]
}